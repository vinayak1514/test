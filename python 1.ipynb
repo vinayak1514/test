{
 "cells": [
  {
   "cell_type": "code",
   "execution_count": 3,
   "id": "0dfb6505",
   "metadata": {},
   "outputs": [],
   "source": [
    "def search_matrix(m, t):\n",
    "    if not m or not m[0]:\n",
    "        return False\n",
    "    \n",
    "    rows = len(m)\n",
    "    cols = len(m[0])\n",
    "\n",
    "    row = 0\n",
    "    col = cols - 1\n",
    "    \n",
    "    while row < rows and col >= 0:\n",
    "        if m[row][col] == t:\n",
    "            return True\n",
    "        elif m[row][col] < t:\n",
    "            row += 1  #Moves down if the value is less than target\n",
    "        else:\n",
    "            col -= 1  #Moves left if the value is less than target greater than target\n",
    "    \n",
    "    return False"
   ]
  },
  {
   "cell_type": "code",
   "execution_count": 4,
   "id": "08d36a49",
   "metadata": {},
   "outputs": [
    {
     "name": "stdout",
     "output_type": "stream",
     "text": [
      "True\n"
     ]
    }
   ],
   "source": [
    "matrix = [[1,3,5,7],[10,11,16,20],[23,30,34,60]]\n",
    "target = 3\n",
    "print(search_matrix(matrix, target))  "
   ]
  },
  {
   "cell_type": "code",
   "execution_count": 7,
   "id": "3bf5a6b9",
   "metadata": {},
   "outputs": [
    {
     "name": "stdout",
     "output_type": "stream",
     "text": [
      "True\n"
     ]
    }
   ],
   "source": [
    "matrix = [[1,3,5,7],[6,10,86,20],[23,90,34,60]]\n",
    "target = 3\n",
    "print(search_matrix(matrix, target))  "
   ]
  },
  {
   "cell_type": "code",
   "execution_count": 6,
   "id": "d300fc26",
   "metadata": {},
   "outputs": [
    {
     "name": "stdout",
     "output_type": "stream",
     "text": [
      "True\n"
     ]
    }
   ],
   "source": [
    "matrix = [[1,3,5,7],[10,11,16,20],[23,30,34,60]]\n",
    "target = 3\n",
    "print(search_matrix(matrix, target))  "
   ]
  },
  {
   "cell_type": "code",
   "execution_count": null,
   "id": "dc2bbc97",
   "metadata": {},
   "outputs": [],
   "source": []
  }
 ],
 "metadata": {
  "kernelspec": {
   "display_name": "Python 3 (ipykernel)",
   "language": "python",
   "name": "python3"
  },
  "language_info": {
   "codemirror_mode": {
    "name": "ipython",
    "version": 3
   },
   "file_extension": ".py",
   "mimetype": "text/x-python",
   "name": "python",
   "nbconvert_exporter": "python",
   "pygments_lexer": "ipython3",
   "version": "3.9.12"
  }
 },
 "nbformat": 4,
 "nbformat_minor": 5
}
