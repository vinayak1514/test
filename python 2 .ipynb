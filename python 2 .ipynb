{
 "cells": [
  {
   "cell_type": "code",
   "execution_count": 3,
   "id": "1121ee44",
   "metadata": {},
   "outputs": [
    {
     "name": "stdout",
     "output_type": "stream",
     "text": [
      "Length of the highest-frequency word: 5\n"
     ]
    }
   ],
   "source": [
    "def count_word_frequency(input_string):\n",
    "    # Initialize an empty dictionary to store word frequencies\n",
    "    word_frequency = {}\n",
    "\n",
    "    # Split the input string into words\n",
    "    words = input_string.split()\n",
    "\n",
    "    # Count the frequency of each word\n",
    "    for word in words:\n",
    "        # Remove repeated characters in the word\n",
    "        unique_word = \"\".join(sorted(set(word), key=word.index))\n",
    "\n",
    "        # Update word frequency in the dictionary\n",
    "        if unique_word in word_frequency:\n",
    "            word_frequency[unique_word] += 1\n",
    "        else:\n",
    "            word_frequency[unique_word] = 1\n",
    "\n",
    "    return word_frequency\n",
    "\n",
    "def find_highest_frequency_length(input_string):\n",
    "    # Get word frequencies\n",
    "    word_frequency = count_word_frequency(input_string)\n",
    "\n",
    "    # Initialize variables to track the word with the highest frequency and its length\n",
    "    max_word = None\n",
    "    max_frequency = 0\n",
    "\n",
    "    # Find the word with the highest frequency\n",
    "    for word, frequency in word_frequency.items():\n",
    "        if frequency > max_frequency:\n",
    "            max_word = word\n",
    "            max_frequency = frequency\n",
    "\n",
    "    # Return the length of the word with the highest frequency\n",
    "    if max_word is not None:\n",
    "        return len(max_word)\n",
    "    else:\n",
    "        return 0\n",
    "\n",
    "# Example usage:\n",
    "input_str = 'write write write all the number from from from 1 to 100'\n",
    "result = find_highest_frequency_length(input_str)\n",
    "print(\"Length of the highest-frequency word:\", result)\n"
   ]
  },
  {
   "cell_type": "code",
   "execution_count": 6,
   "id": "2dac6510",
   "metadata": {},
   "outputs": [
    {
     "name": "stdout",
     "output_type": "stream",
     "text": [
      "Length of the highest-frequency word: 3\n"
     ]
    }
   ],
   "source": [
    "input_str = 'fit fit fit  it it it'\n",
    "result = find_highest_frequency_length(input_str)\n",
    "print(\"Length of the highest-frequency word:\", result)"
   ]
  },
  {
   "cell_type": "code",
   "execution_count": 8,
   "id": "da9cf54f",
   "metadata": {},
   "outputs": [
    {
     "name": "stdout",
     "output_type": "stream",
     "text": [
      "Length of the highest-frequency word: 3\n"
     ]
    }
   ],
   "source": [
    "input_str = 'fun fun mon mon mon honey'\n",
    "result = find_highest_frequency_length(input_str)\n",
    "print(\"Length of the highest-frequency word:\", result)"
   ]
  },
  {
   "cell_type": "code",
   "execution_count": null,
   "id": "cc30e876",
   "metadata": {},
   "outputs": [],
   "source": []
  }
 ],
 "metadata": {
  "kernelspec": {
   "display_name": "Python 3 (ipykernel)",
   "language": "python",
   "name": "python3"
  },
  "language_info": {
   "codemirror_mode": {
    "name": "ipython",
    "version": 3
   },
   "file_extension": ".py",
   "mimetype": "text/x-python",
   "name": "python",
   "nbconvert_exporter": "python",
   "pygments_lexer": "ipython3",
   "version": "3.9.12"
  }
 },
 "nbformat": 4,
 "nbformat_minor": 5
}
